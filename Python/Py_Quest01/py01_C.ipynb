# 1st Python C Quest
