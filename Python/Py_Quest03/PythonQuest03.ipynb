{
  "nbformat": 4,
  "nbformat_minor": 0,
  "metadata": {
    "colab": {
      "provenance": [],
      "include_colab_link": true
    },
    "kernelspec": {
      "name": "python3",
      "display_name": "Python 3"
    },
    "language_info": {
      "name": "python"
    }
  },
  "cells": [
    {
      "cell_type": "markdown",
      "metadata": {
        "id": "view-in-github",
        "colab_type": "text"
      },
      "source": [
        "<a href=\"https://colab.research.google.com/github/bigwideHO/AIFFEL_quest_cr/blob/main/Python/Py_Quest03/PythonQuest03.ipynb\" target=\"_parent\"><img src=\"https://colab.research.google.com/assets/colab-badge.svg\" alt=\"Open In Colab\"/></a>"
      ]
    },
    {
      "cell_type": "markdown",
      "source": [
        "# [파이썬] 퀘스트: 클로저를 활용한 문제해결하기\n",
        "\n",
        "난이도: ★★★★☆  \n",
        "장르: nonlocal, 클로저, 데코레이터 활용  \n",
        "\n",
        "---\n",
        "\n",
        "\n"
      ],
      "metadata": {
        "id": "sPRcyZsPorCm"
      }
    },
    {
      "cell_type": "markdown",
      "source": [
        "## 문제 1. 최댓값과 최솟값 찾기\n",
        "\n"
      ],
      "metadata": {
        "id": "Dh2vcnApr4VI"
      }
    },
    {
      "cell_type": "markdown",
      "source": [
        "조건:  \n",
        "* 주어진 리스트의 최댓값과 최솟값을 반환하는 클로저 함수를 완성해 주세요.\n",
        "    * 주어진 숫자 리스트 numbers에 대해 find_min_max 함수를 호출하면 find_min과 find_max 함수를 얻을 수 있습니다.\n",
        "    * find_min() 함수를 호출하면 최솟값을, find_max()함수를 호출하면 최댓값을 반환합니다.\n",
        "    * 클로저를 사용하여 min_value와 max_value 변수를 외부에 노출하지 않고도 최솟값과 최대값을 찾을 수 있습니다.\n",
        "    * find_min_max 함수가 호출된 이후에도 find_min과 find_max 함수를 통해 min_value와 max_value 변수에 접근할 수 있습니다.\n",
        "* 주석으로 구현 내용이 써있는 부분을 코드로 채워주세요.\n",
        "---\n",
        "입력:\n",
        "```python\n",
        "numbers = [10, 5, 8, 12, 3, 7]\n",
        "find_min, find_max = find_min_max(numbers)\n",
        "\n",
        "print(\"최솟값:\", find_min())  \n",
        "print(\"최댓값:\", find_max())  \n",
        "```\n",
        "---\n",
        "출력:\n",
        "```\n",
        "3\n",
        "12\n",
        "```\n"
      ],
      "metadata": {
        "id": "d-vXJztpvFD-"
      }
    },
    {
      "cell_type": "code",
      "source": [
        "def find_min_max(numbers):\n",
        "    # min_value와 max_value 변수를 초기화\n",
        "    min_value = 0\n",
        "    max_value = 0\n",
        "    # min_value는 양의 무한대(float('inf'))로 초기화하여 어떤 숫자보다도 큰 값으로 설정\n",
        "    min_value = float('inf')\n",
        "    # max_value는 음의 무한대(float('-inf'))로 초기화하여 어떤 숫자보다도 작은 값으로 설정\n",
        "    max_value = float('-inf')\n",
        "\n",
        "    def update_min_max(num):\n",
        "        # 외부함수의 변수인 min_value, max_value 참조\n",
        "        nonlocal min_value, max_value\n",
        "        # 만약 num 값이 min_value보다 작다면 min_value를 num 값으로 변경\n",
        "        if num < min_value:\n",
        "            min_value = num\n",
        "        # 만약 num 값이 max_value보다 크다면 max_value를 num 값으로 변경\n",
        "        elif num > max_value:\n",
        "          max_value = num\n",
        "        else:\n",
        "            pass\n",
        "    # numbers 리스트의 모든 값을 순환하며 최댓값과 최솟값 업데이트\n",
        "        for num in numbers:\n",
        "            update_min_max(num)\n",
        "            return update_min_max\n",
        "    # 최솟값을 반환하는 내부함수\n",
        "    def get_min():\n",
        "        nonlocal numbers\n",
        "        minimum = min(numbers)\n",
        "        return minimum\n",
        "\n",
        "    # 최댓값을 반환하는 내부함수\n",
        "    def get_max():\n",
        "        nonlocal numbers\n",
        "        maximum = max(numbers)\n",
        "        return maximum\n",
        "\n",
        "    # 외부함수는 내부함수(get_min()과 get_max())를 반환\n",
        "    return get_min, get_max"
      ],
      "metadata": {
        "id": "oF_uYyS2jjPj"
      },
      "execution_count": null,
      "outputs": []
    },
    {
      "cell_type": "code",
      "source": [
        "numbers = [10, 5, 8, 12, 3, 7]\n",
        "find_min, find_max = find_min_max(numbers)\n",
        "\n",
        "print(\"최솟값:\", find_min())  # 3\n",
        "print(\"최댓값:\", find_max())  # 12"
      ],
      "metadata": {
        "id": "fCd_fJBrobxi",
        "colab": {
          "base_uri": "https://localhost:8080/"
        },
        "outputId": "b38142c2-3c04-4444-bcf6-5f41608443b7"
      },
      "execution_count": null,
      "outputs": [
        {
          "output_type": "stream",
          "name": "stdout",
          "text": [
            "최솟값: 3\n",
            "최댓값: 12\n"
          ]
        }
      ]
    },
    {
      "cell_type": "markdown",
      "source": [
        "## 문제 2. 함수의 호출 횟수를 세는 데코레이터"
      ],
      "metadata": {
        "id": "d3XECsmXwES5"
      }
    },
    {
      "cell_type": "markdown",
      "source": [
        "지난 시간에 배운 데코레이터를 기억하시나요? 데코레이터도 내부함수를 반환하는 클로저를 활용한 문법입니다. 클로저를 활용하여 함수 호출 횟수를 출력하는 데코레이터를 만들어봅시다.\n",
        "\n",
        "조건:\n",
        "* 함수가 실행될 때 마다 함수 이름과 실행 횟수를 출력하는 데코레이터 `counter` 만들기  \n",
        "\n",
        "힌트:\n",
        "* 데코레이터의 내부 함수(클로저)는 실행횟수를 기억하기 위해 외부 함수의 변수를 참조 해야 합니다\n",
        "* 함수의 이름은 `함수이름.__name__`으로 접근할 수 있습니다.\n",
        "\n",
        "---\n",
        "입력:\n",
        "```python\n",
        "@counter\n",
        "def say_hello():\n",
        "    print(\"Hello Aiffel!\")\n",
        "\n",
        "for i in range(5):\n",
        "    say_hello()\n",
        "```\n",
        "---\n",
        "출력:\n",
        "```\n",
        "Hello Aiffel!\n",
        "say_hello 실행횟수: 1\n",
        "Hello Aiffel!\n",
        "say_hello 실행횟수: 2\n",
        "Hello Aiffel!\n",
        "say_hello 실행횟수: 3\n",
        "Hello Aiffel!\n",
        "say_hello 실행횟수: 4\n",
        "Hello Aiffel!\n",
        "say_hello 실행횟수: 5\n",
        "```"
      ],
      "metadata": {
        "id": "HTdH6DkVvJMF"
      }
    },
    {
      "cell_type": "code",
      "source": [
        "def counter(func): #데코레이터 함수\n",
        "  count = 0 #실행횟수: wrapper 안에 만들면 wrapper가 실행될 때마다 초기화되니, 외부에 초기화 설정\n",
        "  def wrapper(): #데코레이터로 감싸서 나온 함수\n",
        "    nonlocal count #wrapper 바깥 변수를 참조하므로 nonlocal 선언\n",
        "    count += 1 #실행횟수 1회 추가\n",
        "    a = func() #단순히 대상 함수를 실행시키는 것이 목적인, 의미없는 변수 할당\n",
        "    print(f'{func.__name__} 실행횟수: {count}') #f스트링 사용: 함수의 __name__메소드, count 변수 참조\n",
        "  return wrapper # counter(func)=wrapper\n",
        "\n",
        "@counter\n",
        "def say_hello():\n",
        "    print(\"Hello Aiffel!\")\n",
        "\n",
        "for i in range(5):\n",
        "    say_hello()"
      ],
      "metadata": {
        "id": "QYdFtnf-MOCg",
        "colab": {
          "base_uri": "https://localhost:8080/"
        },
        "outputId": "b35a80f9-fc85-4e2e-97e9-3214506e660a"
      },
      "execution_count": null,
      "outputs": [
        {
          "output_type": "stream",
          "name": "stdout",
          "text": [
            "Hello Aiffel!\n",
            "say_hello 실행횟수: 1\n",
            "Hello Aiffel!\n",
            "say_hello 실행횟수: 2\n",
            "Hello Aiffel!\n",
            "say_hello 실행횟수: 3\n",
            "Hello Aiffel!\n",
            "say_hello 실행횟수: 4\n",
            "Hello Aiffel!\n",
            "say_hello 실행횟수: 5\n"
          ]
        }
      ]
    },
    {
      "cell_type": "markdown",
      "source": [
        "윤석진 회고: 데코레이터가 좀 어렵고 이해하기 어려운 개념인데 이전에 배웠던 게 있어서 어찌저찌 해낼 수 있었습니다. 다만 func 함수를 그냥 실행만 시킨다는 개념을 떠올리지 못해서 그 부분만 챗gpt의 도움을 받았습니다."
      ],
      "metadata": {
        "id": "cpXX4OYmwMhs"
      }
    },
    {
      "cell_type": "markdown",
      "source": [
        "# 회고 - 최성호\n",
        "* 막상 코드를 완성해보니 그렇게 복잡하지 않았는데, 지옥철에 시달리고 바로 문제를 풀어서 그런가 문제를 이해하는데 시간이 조금 걸렸습니다.\n",
        "* 주석만 보고 line 13 ~ line 20을 if - else문만 사용해서 해결하는 것인 줄 알았는데, 그러면 최댓값 및 최솟값이 아닌 경우에 대한 조치가 이루어지지 않아서, elif문으로 최대값을 변경하는 부분을 만들고 else로 최대 및 최소가 아닌 경우에는 pass 시켜버리도록 코드를 작성하였습니다.\n",
        "* 퀘스트 설명에서 '클로저로 min_value와 max_value를 외부에 노출하지 않고도'라는 부분이 말이 잘 이해가 안되서 여러 번 곱씹었는데, 아마도 다른 곳에 영향을 받지 않고 클로저 함수인 get_min() 함수와 get_max() 함수에서만 최댓값과 최솟값을 구할 수 있다라는 얘기가 아닐까 생각이 들었습니다."
      ],
      "metadata": {
        "id": "tSl0z7J-weEB"
      }
    }
  ]
}