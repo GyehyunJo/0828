# 3rd Exploration C Quest
